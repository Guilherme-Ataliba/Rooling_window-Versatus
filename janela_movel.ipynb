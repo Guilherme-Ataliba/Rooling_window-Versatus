{
 "cells": [
  {
   "cell_type": "code",
   "execution_count": 1,
   "metadata": {},
   "outputs": [],
   "source": [
    "from rollingWindow import *"
   ]
  },
  {
   "cell_type": "code",
   "execution_count": 2,
   "metadata": {},
   "outputs": [],
   "source": [
    "X = np.linspace(0, 6, 100)\n",
    "y = np.linspace(0, 6, 100)*-1\n",
    "\n",
    "roolWindow = rollingWindow(ignore_warning=True)\n",
    "\n",
    "roolWindow.fit(X, y, 2, 2)"
   ]
  },
  {
   "cell_type": "code",
   "execution_count": 3,
   "metadata": {},
   "outputs": [
    {
     "name": "stdout",
     "output_type": "stream",
     "text": [
      "[0.         0.06060606 0.12121212 0.18181818 0.24242424 0.3030303\n",
      " 0.36363636 0.42424242 0.48484848 0.54545455 0.60606061 0.66666667\n",
      " 0.72727273 0.78787879 0.84848485 0.90909091 0.96969697 1.03030303\n",
      " 1.09090909 1.15151515 1.21212121 1.27272727 1.33333333 1.39393939\n",
      " 1.45454545 1.51515152 1.57575758 1.63636364 1.6969697  1.75757576\n",
      " 1.81818182 1.87878788 1.93939394] [-0.         -0.06060606 -0.12121212 -0.18181818 -0.24242424 -0.3030303\n",
      " -0.36363636 -0.42424242 -0.48484848 -0.54545455 -0.60606061 -0.66666667\n",
      " -0.72727273 -0.78787879 -0.84848485 -0.90909091 -0.96969697 -1.03030303\n",
      " -1.09090909 -1.15151515 -1.21212121 -1.27272727 -1.33333333 -1.39393939\n",
      " -1.45454545 -1.51515152 -1.57575758 -1.63636364 -1.6969697  -1.75757576\n",
      " -1.81818182 -1.87878788 -1.93939394]\n",
      "iniciou\n"
     ]
    },
    {
     "name": "stderr",
     "output_type": "stream",
     "text": [
      "<string>:1: RuntimeWarning: divide by zero encountered in log\n",
      "<string>:1: RuntimeWarning: invalid value encountered in cos\n",
      "<string>:1: RuntimeWarning: invalid value encountered in log\n",
      "<string>:1: RuntimeWarning: invalid value encountered in sqrt\n",
      "<string>:1: RuntimeWarning: divide by zero encountered in divide\n",
      "<string>:1: RuntimeWarning: invalid value encountered in multiply\n",
      "<string>:1: RuntimeWarning: invalid value encountered in divide\n",
      "<string>:1: RuntimeWarning: invalid value encountered in tan\n",
      "<string>:1: RuntimeWarning: invalid value encountered in sin\n"
     ]
    },
    {
     "name": "stdout",
     "output_type": "stream",
     "text": [
      "iniciou\n"
     ]
    },
    {
     "name": "stderr",
     "output_type": "stream",
     "text": [
      "d:\\Documents\\Coding\\Repositorios\\MyRepositories\\Symbolic-Regression\\CSOWP_SR\\algorithms\\CSOWP_SR.py:923: OptimizeWarning: Covariance of the parameters could not be estimated\n",
      "  params, _ = curve_fit(self.toFunc(me),\n",
      "<string>:1: RuntimeWarning: invalid value encountered in subtract\n"
     ]
    },
    {
     "name": "stdout",
     "output_type": "stream",
     "text": [
      "iniciou\n",
      "[3.03030303 3.09090909 3.15151515 3.21212121 3.27272727 3.33333333\n",
      " 3.39393939 3.45454545 3.51515152 3.57575758 3.63636364 3.6969697\n",
      " 3.75757576 3.81818182 3.87878788 3.93939394 4.         4.06060606\n",
      " 4.12121212 4.18181818 4.24242424 4.3030303  4.36363636 4.42424242\n",
      " 4.48484848 4.54545455 4.60606061 4.66666667 4.72727273 4.78787879\n",
      " 4.84848485 4.90909091 4.96969697] [-3.03030303 -3.09090909 -3.15151515 -3.21212121 -3.27272727 -3.33333333\n",
      " -3.39393939 -3.45454545 -3.51515152 -3.57575758 -3.63636364 -3.6969697\n",
      " -3.75757576 -3.81818182 -3.87878788 -3.93939394 -4.         -4.06060606\n",
      " -4.12121212 -4.18181818 -4.24242424 -4.3030303  -4.36363636 -4.42424242\n",
      " -4.48484848 -4.54545455 -4.60606061 -4.66666667 -4.72727273 -4.78787879\n",
      " -4.84848485 -4.90909091 -4.96969697]\n",
      "iniciou\n",
      "iniciou\n",
      "iniciou\n"
     ]
    },
    {
     "data": {
      "text/plain": [
       "([<ExpressionTree.ExpressionTree at 0x250fbce7970>, np.float64(0.0)],\n",
       " [<ExpressionTree.ExpressionTree at 0x250fbcd83b0>, np.float64(0.0)])"
      ]
     },
     "execution_count": 3,
     "metadata": {},
     "output_type": "execute_result"
    }
   ],
   "source": [
    "roolWindow.run()"
   ]
  },
  {
   "cell_type": "code",
   "execution_count": 6,
   "metadata": {},
   "outputs": [
    {
     "ename": "RuntimeError",
     "evalue": "You must first execute the algorithm with run and after call multi_plots",
     "output_type": "error",
     "traceback": [
      "\u001b[1;31m---------------------------------------------------------------------------\u001b[0m",
      "\u001b[1;31mRuntimeError\u001b[0m                              Traceback (most recent call last)",
      "Cell \u001b[1;32mIn[6], line 1\u001b[0m\n\u001b[1;32m----> 1\u001b[0m \u001b[43mroolWindow\u001b[49m\u001b[38;5;241;43m.\u001b[39;49m\u001b[43mmulti_plots\u001b[49m\u001b[43m(\u001b[49m\u001b[43m(\u001b[49m\u001b[38;5;241;43m0\u001b[39;49m\u001b[43m,\u001b[49m\u001b[43m \u001b[49m\u001b[38;5;241;43m20\u001b[39;49m\u001b[43m)\u001b[49m\u001b[43m)\u001b[49m\n",
      "File \u001b[1;32md:\\Documents\\Coding\\Repositorios\\MyRepositories\\Symbolic-Regression\\CSOWP_SR\\algorithms\\rollingWindow.py:112\u001b[0m, in \u001b[0;36mrollingWindow.multi_plots\u001b[1;34m(self, x_range, n_points)\u001b[0m\n\u001b[0;32m    110\u001b[0m \u001b[38;5;28;01mdef\u001b[39;00m \u001b[38;5;21mmulti_plots\u001b[39m(\u001b[38;5;28mself\u001b[39m, x_range, n_points\u001b[38;5;241m=\u001b[39m\u001b[38;5;241m1000\u001b[39m):\n\u001b[0;32m    111\u001b[0m     \u001b[38;5;28;01mif\u001b[39;00m \u001b[38;5;28mself\u001b[39m\u001b[38;5;241m.\u001b[39mfunctions \u001b[38;5;129;01mis\u001b[39;00m \u001b[38;5;28;01mNone\u001b[39;00m:\n\u001b[1;32m--> 112\u001b[0m         \u001b[38;5;28;01mraise\u001b[39;00m \u001b[38;5;167;01mRuntimeError\u001b[39;00m(\u001b[38;5;124m\"\u001b[39m\u001b[38;5;124mYou must first execute the algorithm with run and after call multi_plots\u001b[39m\u001b[38;5;124m\"\u001b[39m)\n\u001b[0;32m    114\u001b[0m     X \u001b[38;5;241m=\u001b[39m np\u001b[38;5;241m.\u001b[39mlinspace(x_range[\u001b[38;5;241m0\u001b[39m], x_range[\u001b[38;5;241m1\u001b[39m], n_points)\n\u001b[0;32m    116\u001b[0m     \u001b[38;5;28;01mfor\u001b[39;00m c, func \u001b[38;5;129;01min\u001b[39;00m \u001b[38;5;28menumerate\u001b[39m(\u001b[38;5;28mself\u001b[39m\u001b[38;5;241m.\u001b[39mfunctions):\n",
      "\u001b[1;31mRuntimeError\u001b[0m: You must first execute the algorithm with run and after call multi_plots"
     ]
    }
   ],
   "source": [
    "roolWindow.multi_plots((0, 20))"
   ]
  }
 ],
 "metadata": {
  "kernelspec": {
   "display_name": ".venv",
   "language": "python",
   "name": "python3"
  },
  "language_info": {
   "codemirror_mode": {
    "name": "ipython",
    "version": 3
   },
   "file_extension": ".py",
   "mimetype": "text/x-python",
   "name": "python",
   "nbconvert_exporter": "python",
   "pygments_lexer": "ipython3",
   "version": "3.10.11"
  }
 },
 "nbformat": 4,
 "nbformat_minor": 2
}
